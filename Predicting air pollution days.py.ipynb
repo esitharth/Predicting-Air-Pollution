{
 "cells": [
  {
   "cell_type": "code",
   "execution_count": 5,
   "metadata": {},
   "outputs": [
    {
     "name": "stdout",
     "output_type": "stream",
     "text": [
      "(2534, 73)\n",
      "<bound method NDFrame.head of              1    2    3    4    5    6    7    8    9    10 ...     64  \\\n",
      "0                                                            ...          \n",
      "1998-01-01  0.8  1.8  2.4  2.1    2  2.1  1.5  1.7  1.9  2.3 ...   0.15   \n",
      "1998-01-02  2.8  3.2  3.3  2.7  3.3  3.2  2.9  2.8  3.1  3.4 ...   0.48   \n",
      "1998-01-03  2.9  2.8  2.6  2.1  2.2  2.5  2.5  2.7  2.2  2.5 ...    0.6   \n",
      "1998-01-04  4.7  3.8  3.7  3.8  2.9  3.1  2.8  2.5  2.4  3.1 ...   0.49   \n",
      "1998-01-05  2.6  2.1  1.6  1.4  0.9  1.5  1.2  1.4  1.3  1.4 ...      ?   \n",
      "1998-01-06  3.1  3.5  3.3  2.5  1.6  1.7  1.6  1.6  2.3  1.8 ...   0.09   \n",
      "1998-01-07  3.7  3.2  3.8  5.1    6    7  6.3  6.4  6.3  5.4 ...   0.84   \n",
      "1998-01-08  2.2  2.9  3.4  4.2  4.7  4.7  5.3  4.9  5.2    6 ...    0.2   \n",
      "1998-01-09    1  1.5  1.2  1.2  0.7  0.5  1.2  1.4  1.5  2.1 ...   0.51   \n",
      "1998-01-10  0.9  0.6  0.5  0.5  0.6  0.4  0.4  0.6  1.3  1.5 ...   0.08   \n",
      "1998-01-11  1.1  1.7  1.4  1.5  0.9  1.5  1.4  1.6  1.9  1.9 ...   0.11   \n",
      "1998-01-12  3.7  4.2  3.1  2.6  2.3  2.3  1.7    1  1.3  1.9 ...   0.39   \n",
      "1998-01-13    1  0.6  0.3  1.1  1.3  1.2    1  1.3    3  2.7 ...   0.48   \n",
      "1998-01-14  1.3  1.3  1.6  1.7  1.4  1.3  1.4  1.4  1.1  2.5 ...   0.49   \n",
      "1998-01-15  4.2  5.1  5.1  5.1  5.5    5  5.4  5.6  5.3  5.5 ...   0.36   \n",
      "1998-01-16    0  0.2  0.1  0.2  0.7  0.3  0.3    0  1.1  2.6 ...   0.36   \n",
      "1998-01-17  2.1  2.2  2.2  1.7  2.1  1.8  1.3  0.8  1.3  3.1 ...   0.17   \n",
      "1998-01-18  2.5  2.3  1.3  1.7  1.6  1.4  2.8  4.3  4.2  5.5 ...   0.06   \n",
      "1998-01-19  2.7    2  2.6  2.9  3.3  4.4  3.6  3.2  3.8  3.6 ...   0.28   \n",
      "1998-01-20  0.3  0.6  1.1  1.1  1.7  1.9  2.6  3.1  2.5  2.3 ...   0.15   \n",
      "1998-01-21  2.1  1.8  1.1  1.5  1.4  1.7  1.5  1.9  1.9  2.9 ...   0.02   \n",
      "1998-01-22  2.8  3.6  4.1  3.2  3.3  3.7  4.2  4.6  4.6  5.4 ...    0.2   \n",
      "1998-01-23  3.4  3.5  3.8  3.2  3.1    4  3.4  2.9  2.6  2.1 ...   0.32   \n",
      "1998-01-24  1.1  0.7  1.4  1.2  1.6  0.8  0.3  0.7    2    3 ...   0.22   \n",
      "1998-01-25  1.2  0.7  0.3  0.1  0.3  0.4  0.6  1.1  1.9  2.4 ...   0.24   \n",
      "1998-01-26  2.1  2.3  1.4  0.8  0.6  0.6  1.9  3.6    5    6 ...   0.43   \n",
      "1998-01-27    2  2.3  2.7  2.3  2.1  1.9  1.8  1.7  2.4  3.2 ...   0.22   \n",
      "1998-01-28  0.3  0.5  0.3  0.8  0.7  0.1  0.1  0.5  0.9  3.8 ...   0.23   \n",
      "1998-01-29  0.2  0.3  0.1  0.8  0.6  0.1  0.5    1  1.4  1.3 ...   0.14   \n",
      "1998-01-30  1.3  0.4  0.8  0.8  0.6  0.5    1  0.1  0.8    1 ...    0.2   \n",
      "...         ...  ...  ...  ...  ...  ...  ...  ...  ...  ... ...    ...   \n",
      "2004-12-02  1.1    1  0.8  0.3  0.4  0.6  0.8  0.8  1.5  1.4 ...   0.19   \n",
      "2004-12-03  0.4  0.5  0.5  0.2  0.6  0.9  0.5  0.8  0.4  1.5 ...   0.29   \n",
      "2004-12-04    1  0.8  0.6  0.6  0.8    1    1  0.8  0.6  0.4 ...   0.49   \n",
      "2004-12-05  2.4  1.7  1.5  1.8  1.7    1  1.3  0.7  0.5  0.6 ...   0.88   \n",
      "2004-12-06  1.9  1.6  2.3  1.7  1.3  2.1  0.9  1.3    1  0.5 ...   0.59   \n",
      "2004-12-07  1.9    1  1.1  1.4  1.4  2.2  3.5    4  4.4  4.2 ...   0.09   \n",
      "2004-12-08  0.2  0.3  0.2  0.3  1.1  1.4  1.2  1.2    2    2 ...   0.13   \n",
      "2004-12-09  2.1    1  1.2  2.2  2.5  2.1  1.9  1.8  2.5  3.1 ...   0.27   \n",
      "2004-12-10  0.7  0.2  0.5  0.4  1.3  1.3  1.8  2.2    3  4.2 ...   0.12   \n",
      "2004-12-11  1.2  0.8  0.9  0.9    1  0.7  0.8  1.7  1.4  2.6 ...   0.16   \n",
      "2004-12-12  0.9  0.8  0.9  0.5  0.2  0.4  0.8  1.3  1.2  3.4 ...   0.26   \n",
      "2004-12-13  0.3  0.4  1.3  1.9  3.4  3.6  4.5  4.5  4.6  5.1 ...   0.21   \n",
      "2004-12-14  3.3  3.7  3.7  3.3  2.9  2.7  2.6  2.8  3.2  4.1 ...   0.25   \n",
      "2004-12-15  0.6  0.8  1.1  1.7  1.6  1.9    2    2  3.2    4 ...    0.4   \n",
      "2004-12-16  2.5  2.2  2.2  2.6  2.6  2.3  2.5  2.7  2.8  3.8 ...   0.12   \n",
      "2004-12-17  2.5    3  2.6  2.6  2.6  2.4    3  3.1    3  2.7 ...    0.2   \n",
      "2004-12-18  0.3  0.4  0.5  0.5  0.4  0.4  0.2  0.4  0.6  1.7 ...   0.39   \n",
      "2004-12-19  0.8  0.6  0.7    1  1.2  1.2  1.2    2  2.8    4 ...   0.09   \n",
      "2004-12-20  0.6  1.1  1.2  1.5  1.4  1.6  1.6  1.4  1.3    3 ...    0.1   \n",
      "2004-12-21  1.3  1.1  1.2  1.2  1.4  1.2  0.4  0.3  2.1  2.3 ...   0.13   \n",
      "2004-12-22  0.5  0.5  0.8  0.5  0.5  0.8  0.5  1.6    3  5.7 ...   0.45   \n",
      "2004-12-23  6.5    6  5.6  4.6  4.6  4.9  3.5  3.4  3.2  3.8 ...   0.11   \n",
      "2004-12-24  3.6    4  3.9  3.8  4.2  4.2  3.6  3.9  3.9  4.3 ...   0.19   \n",
      "2004-12-25  2.3  2.3  2.7  2.2  2.4    3  2.9  2.4  2.3  2.5 ...   0.77   \n",
      "2004-12-26  0.9  0.4  0.3  0.2  0.3  0.2  0.3  0.3  0.3  0.6 ...   0.13   \n",
      "2004-12-27  0.3  0.4  0.5  0.5  0.2  0.3  0.4  0.4  1.3  2.2 ...   0.07   \n",
      "2004-12-28    1  1.4  1.1  1.7  1.5  1.7  1.8  1.5  2.1  2.4 ...   0.04   \n",
      "2004-12-29  0.8  0.8  1.2  0.9  0.4  0.6  0.8  1.1  1.5  1.5 ...   0.06   \n",
      "2004-12-30  1.3  0.9  1.5  1.2  1.6  1.8  1.1    1  1.9    2 ...   0.25   \n",
      "2004-12-31  1.5  1.3  1.8  1.4  1.2  1.7  1.6  1.4  1.6    3 ...   0.54   \n",
      "\n",
      "               65      66    67      68     69     70   71    72   73  \n",
      "0                                                                      \n",
      "1998-01-01  10.67   -1.56  5795   -12.1   17.9  10330  -55     0  0.0  \n",
      "1998-01-02   8.39    3.84  5805   14.05     29  10275  -55     0  0.0  \n",
      "1998-01-03   6.94     9.8  5790    17.9   41.3  10235  -40     0  0.0  \n",
      "1998-01-04   8.73   10.54  5775   31.15   51.7  10195  -40  2.08  0.0  \n",
      "1998-01-05      ?       ?     ?       ?      ?      ?    ?  0.58  0.0  \n",
      "1998-01-06  11.98   11.28  5770   27.95  46.25  10120    ?  5.84  0.0  \n",
      "1998-01-07   6.86    25.6  5695   26.75  48.45  10040  -80  0.18  0.0  \n",
      "1998-01-08  19.22   18.21  5515   -10.1     42  10065   25     0  0.0  \n",
      "1998-01-09      ?       ?  5585    -3.4   32.9  10120   55     0  0.0  \n",
      "1998-01-10  18.51   -0.88  5680    -7.9   30.5  10180   60     0  0.0  \n",
      "1998-01-11  21.77    0.07  5715    13.1   44.7  10190   10  0.03  0.0  \n",
      "1998-01-12  21.07    5.02  5740   24.25  47.85  10140  -50  0.43  0.0  \n",
      "1998-01-13  21.79    9.14  5750    7.25  51.55  10150   10  0.48  0.0  \n",
      "1998-01-14   23.1   16.88  5740    29.3   47.3  10155    5  0.18  0.0  \n",
      "1998-01-15  21.32   17.22  5660    20.9  50.95  10115  -40     0  0.0  \n",
      "1998-01-16  26.52   -7.08  5585    -9.5   36.7  10145   30     0  0.0  \n",
      "1998-01-17  24.72    0.98  5720     1.5   36.7  10160   15     0  0.0  \n",
      "1998-01-18  23.56    0.36  5755    1.75  35.65  10165    5     0  0.0  \n",
      "1998-01-19  19.68   -5.31  5730     0.5   33.5  10150  -15     0  0.0  \n",
      "1998-01-20   8.21   -0.54  5745   -19.8   16.7  10175   25     0  0.0  \n",
      "1998-01-21  16.86    8.83  5710     7.6   39.4  10130  -45  0.66  0.0  \n",
      "1998-01-22  21.11   12.06  5690    30.4  52.25  10090  -40     0  0.0  \n",
      "1998-01-23  17.64   10.11  5645    -7.8   34.7  10145   55     0  0.0  \n",
      "1998-01-24  27.97   -6.98  5655    -3.8   34.5  10195   50     0  0.0  \n",
      "1998-01-25   15.8     2.1  5710   -17.5     19  10210   15     0  0.0  \n",
      "1998-01-26   18.8   10.98  5655   24.75   44.8  10165  -45  0.56  0.0  \n",
      "1998-01-27   16.1  -19.47  5615   -7.25  37.75  10180   15     0  0.0  \n",
      "1998-01-28  15.99   -7.65  5755   -11.1   21.6  10210   30     0  0.0  \n",
      "1998-01-29  14.88    4.58  5740   -19.3   28.3  10175  -35     0  0.0  \n",
      "1998-01-30  12.24   -6.87  5655     9.9   49.8  10150  -25     0  0.0  \n",
      "...           ...     ...   ...     ...    ...    ...  ...   ...  ...  \n",
      "2004-12-02  22.11    8.14  5815   -21.3    3.5  10235   -5     0  0.0  \n",
      "2004-12-03      ?       ?  5800    -8.9   21.5  10220  -15  0.05  0.0  \n",
      "2004-12-04  22.41    0.51  5785    30.8   46.6  10195  -25     0  0.0  \n",
      "2004-12-05  21.31    0.96  5800   17.25   45.1  10165  -30  0.05  0.0  \n",
      "2004-12-06  22.27    9.79  5820   29.65   42.6  10125  -40  2.49  0.0  \n",
      "2004-12-07  21.96   12.58  5805   32.75  47.25  10120   -5     0  0.0  \n",
      "2004-12-08  20.42    7.95  5820     3.2   21.9  10170   50     0  0.0  \n",
      "2004-12-09  24.07   15.01  5785    11.1   48.8  10120  -50     0  0.0  \n",
      "2004-12-10   29.8    -2.9  5730    -0.7   29.8  10105  -15     0  0.0  \n",
      "2004-12-11  26.74  -18.17  5715   -21.9   22.3  10180   75     0  0.0  \n",
      "2004-12-12  11.87  -11.65  5785    -1.7   23.8  10175   -5     0  0.0  \n",
      "2004-12-13  12.83   -4.67  5820    2.45  37.05  10170   -5     0  0.0  \n",
      "2004-12-14  18.13   -4.12  5795   -28.7   13.6  10305  135     0  0.0  \n",
      "2004-12-15  16.77   -6.35  5760   -56.7    0.4  10350   45     0  0.0  \n",
      "2004-12-16  12.52    0.88  5745   -16.2  22.45  10290  -60  1.17  0.0  \n",
      "2004-12-17  24.22    1.09  5730    26.7  44.15  10270  -20     0  0.0  \n",
      "2004-12-18  17.42   -0.67  5695   -18.7   37.1  10245  -25     0  0.0  \n",
      "2004-12-19  16.99   -9.39  5665   -17.1     30  10225  -20     0  0.0  \n",
      "2004-12-20   8.38  -14.41  5710    -8.5   25.2  10245   20     0  0.0  \n",
      "2004-12-21   7.54    3.14  5720  -10.85  41.75  10165  -80  0.66  0.0  \n",
      "2004-12-22  17.51    8.93  5680    22.6   46.7  10100  -65  0.43  0.0  \n",
      "2004-12-23      ?       ?  5670   -11.1     34  10145   45     0  0.0  \n",
      "2004-12-24  30.21      11  5670    -5.7     17  10255  110  0.05  0.0  \n",
      "2004-12-25  19.82   11.83  5620     7.1  26.75  10220  -35     0  0.0  \n",
      "2004-12-26   8.77  -11.98  5670    -6.6   25.5  10230   10     0  0.0  \n",
      "2004-12-27   7.93   -4.41  5800   -25.6   21.8  10295   65     0  0.0  \n",
      "2004-12-28   5.95   -1.14  5845   -19.4   19.1  10310   15     0  0.0  \n",
      "2004-12-29    7.8   -0.64  5845    -9.6   35.2  10275  -35     0  0.0  \n",
      "2004-12-30   7.72   -0.89  5845   -19.6   34.2  10245  -30  0.05  0.0  \n",
      "2004-12-31  13.07    9.15  5820    1.95  39.35  10220  -25     0  0.0  \n",
      "\n",
      "[2534 rows x 73 columns]>\n",
      "Class=0, total=2374, percentage=93.686\n",
      "Class=1, total=160, percentage=6.314\n"
     ]
    }
   ],
   "source": [
    "# load and summarize\n",
    "from pandas import read_csv\n",
    "from matplotlib import pyplot\n",
    "# load dataset\n",
    "data = read_csv('Ozone data/eighthr.data', header=None, index_col=0, parse_dates=True, squeeze=True)\n",
    "print(data.shape)\n",
    "# summarize class counts\n",
    "counts = data.groupby(73).size()\n",
    "\n",
    "for i in range(len(counts)):\n",
    "\tpercent = counts[i] / data.shape[0] * 100\n",
    "\tprint('Class=%d, total=%d, percentage=%.3f' % (i, counts[i], percent))\n",
    "    "
   ]
  },
  {
   "cell_type": "code",
   "execution_count": 8,
   "metadata": {},
   "outputs": [
    {
     "data": {
      "image/png": "[encoded data removed]",
      "text/plain": [
       "<Figure size 432x288 with 1 Axes>"
      ]
     },
     "metadata": {},
     "output_type": "display_data"
    }
   ],
   "source": [
    "# load and plot output variable\n",
    "from pandas import read_csv\n",
    "from matplotlib import pyplot\n",
    "# load dataset\n",
    "data = read_csv('Ozone data/eighthr.data', header=None, index_col=0, parse_dates=True, squeeze=True)\n",
    "# plot the output variable\n",
    "pyplot.plot(data.index, data.values[:,-1])\n",
    "pyplot.show()"
   ]
  },
  {
   "cell_type": "code",
   "execution_count": 13,
   "metadata": {},
   "outputs": [
    {
     "name": "stdout",
     "output_type": "stream",
     "text": [
      "(1803, 73) (730, 73)\n"
     ]
    }
   ],
   "source": [
    "# load and prepare\n",
    "from pandas import read_csv\n",
    "from matplotlib import pyplot\n",
    "from numpy import array\n",
    "from numpy import hstack\n",
    "from numpy import savetxt\n",
    "# load dataset\n",
    "data = read_csv('Ozone data/eighthr.data', header=None, index_col=0, parse_dates=True, squeeze=True)\n",
    "values = data.values\n",
    "# replace missing observations with 0\n",
    "values[values=='?'] = 0.0\n",
    "# frame as supervised learning\n",
    "supervised = list()\n",
    "for i in range(len(values) - 1):\n",
    "\tX, y = values[i, :-1], values[i + 1, -1]\n",
    "\trow = hstack((X,y))\n",
    "\tsupervised.append(row)\n",
    "supervised = array(supervised)\n",
    "# split into train-test\n",
    "split = 365 * 2\n",
    "train, test = supervised[:-split,:], supervised[-split:,:]\n",
    "train, test = train.astype('float32'), test.astype('float32')\n",
    "print(train.shape, test.shape)\n",
    "# save prepared datasets\n",
    "savetxt('Ozone data/train.csv', train, delimiter=',')\n",
    "savetxt('Ozone data/test.csv', test, delimiter=',')"
   ]
  },
  {
   "cell_type": "code",
   "execution_count": 15,
   "metadata": {},
   "outputs": [],
   "source": [
    "# load datasets\n",
    "from numpy import loadtxt\n",
    "train = loadtxt('Ozone data/train.csv', delimiter=',')\n",
    "test = loadtxt('Ozone data/test.csv', delimiter=',')\n",
    "# estimate naive probabilistic forecast\n",
    "naive = sum(train[:,-1]) / train.shape[0]"
   ]
  },
  {
   "cell_type": "code",
   "execution_count": 17,
   "metadata": {},
   "outputs": [],
   "source": [
    "# forecast the test dataset\n",
    "yhat = [naive for _ in range(len(test))]"
   ]
  },
  {
   "cell_type": "code",
   "execution_count": 22,
   "metadata": {},
   "outputs": [
    {
     "name": "stdout",
     "output_type": "stream",
     "text": [
      "Brier Score: 0.039232\n"
     ]
    }
   ],
   "source": [
    "# evaluate forecast\n",
    "from sklearn import metrics\n",
    "testy = test[:, -1]\n",
    "bs = metrics.brier_score_loss(testy, yhat)\n",
    "print('Brier Score: %.6f' % bs)"
   ]
  },
  {
   "cell_type": "code",
   "execution_count": 23,
   "metadata": {},
   "outputs": [
    {
     "name": "stdout",
     "output_type": "stream",
     "text": [
      "Brier Skill Score: -0.000000\n"
     ]
    }
   ],
   "source": [
    "# calculate brier skill score\n",
    "bs_ref = bs\n",
    "bss = (bs - bs_ref) / (0 - bs_ref)\n",
    "print('Brier Skill Score: %.6f' % bss)"
   ]
  },
  {
   "cell_type": "code",
   "execution_count": 24,
   "metadata": {},
   "outputs": [
    {
     "name": "stdout",
     "output_type": "stream",
     "text": [
      "0.07265668330560178\n",
      "Brier Score: 0.039232\n",
      "Brier Skill Score: -0.000000\n"
     ]
    }
   ],
   "source": [
    "# naive prediction method\n",
    "from sklearn.metrics import brier_score_loss\n",
    "from numpy import loadtxt\n",
    "# load datasets\n",
    "train = loadtxt('train.csv', delimiter=',')\n",
    "test = loadtxt('test.csv', delimiter=',')\n",
    "# estimate naive probabilistic forecast\n",
    "naive = sum(train[:,-1]) / train.shape[0]\n",
    "print(naive)\n",
    "# forecast the test dataset\n",
    "yhat = [naive for _ in range(len(test))]\n",
    "# evaluate forecast\n",
    "testy = test[:, -1]\n",
    "bs = brier_score_loss(testy, yhat)\n",
    "print('Brier Score: %.6f' % bs)\n",
    "# calculate brier skill score\n",
    "bs_ref = bs\n",
    "bss = (bs - bs_ref) / (0 - bs_ref)\n",
    "print('Brier Skill Score: %.6f' % bss)"
   ]
  },
  {
   "cell_type": "code",
   "execution_count": 26,
   "metadata": {},
   "outputs": [],
   "source": [
    "# load datasets\n",
    "train = loadtxt('Ozone data/train.csv', delimiter=',')\n",
    "test = loadtxt('Ozone data/test.csv', delimiter=',')\n",
    "# split into inputs/outputs\n",
    "trainX, trainy, testX, testy = train[:,:-1],train[:,-1],test[:,:-1],test[:,-1]"
   ]
  },
  {
   "cell_type": "code",
   "execution_count": 27,
   "metadata": {},
   "outputs": [],
   "source": [
    "# estimate naive probabilistic forecast\n",
    "naive = sum(train[:,-1]) / train.shape[0]\n",
    "# forecast the test dataset\n",
    "yhat = [naive for _ in range(len(test))]\n",
    "# calculate naive bs\n",
    "bs_ref = brier_score_loss(testy, yhat)"
   ]
  },
  {
   "cell_type": "code",
   "execution_count": 28,
   "metadata": {},
   "outputs": [],
   "source": [
    "# evaluate a sklearn model\n",
    "def evaluate_once(bs_ref, template, trainX, trainy, testX, testy):\n",
    "\t# fit model\n",
    "\tmodel = clone(template)\n",
    "\tmodel.fit(trainX, trainy)\n",
    "\t# predict probabilities for 0 and 1\n",
    "\tprobs = model.predict_proba(testX)\n",
    "\t# keep the probabilities for class=1 only\n",
    "\tyhat = probs[:, 1]\n",
    "\t# calculate brier score\n",
    "\tbs = brier_score_loss(testy, yhat)\n",
    "\t# calculate brier skill score\n",
    "\tbss = (bs - bs_ref) / (0 - bs_ref)\n",
    "\treturn bss"
   ]
  },
  {
   "cell_type": "code",
   "execution_count": 29,
   "metadata": {},
   "outputs": [],
   "source": [
    "# evaluate an sklearn model n times\n",
    "def evaluate(bs_ref, model, trainX, trainy, testX, testy, n=10):\n",
    "\tscores = [evaluate_once(bs_ref, model, trainX, trainy, testX, testy) for _ in range(n)]\n",
    "\tprint('>%s, bss=%.6f' % (type(model), mean(scores)))\n",
    "\treturn scores"
   ]
  },
  {
   "cell_type": "code",
   "execution_count": 33,
   "metadata": {},
   "outputs": [
    {
     "name": "stdout",
     "output_type": "stream",
     "text": [
      "><class 'sklearn.ensemble.bagging.BaggingClassifier'>, bss=0.069123\n",
      "><class 'sklearn.ensemble.forest.ExtraTreesClassifier'>, bss=0.111901\n",
      "><class 'sklearn.ensemble.gradient_boosting.GradientBoostingClassifier'>, bss=0.119827\n",
      "><class 'sklearn.ensemble.forest.RandomForestClassifier'>, bss=0.094768\n"
     ]
    },
    {
     "data": {
      "image/png": "[encoded data removed]",
      "text/plain": [
       "<Figure size 432x288 with 1 Axes>"
      ]
     },
     "metadata": {},
     "output_type": "display_data"
    }
   ],
   "source": [
    "# evaluate ensemble tree methods\n",
    "from numpy import loadtxt\n",
    "from numpy import mean\n",
    "from matplotlib import pyplot\n",
    "from sklearn.base import clone\n",
    "from sklearn.metrics import brier_score_loss\n",
    "from sklearn.ensemble import BaggingClassifier\n",
    "from sklearn.ensemble import ExtraTreesClassifier\n",
    "from sklearn.ensemble import GradientBoostingClassifier\n",
    "from sklearn.ensemble import RandomForestClassifier\n",
    "\n",
    "# evaluate a sklearn model\n",
    "def evaluate_once(bs_ref, template, trainX, trainy, testX, testy):\n",
    "\t# fit model\n",
    "\tmodel = clone(template)\n",
    "\tmodel.fit(trainX, trainy)\n",
    "\t# predict probabilities for 0 and 1\n",
    "\tprobs = model.predict_proba(testX)\n",
    "\t# keep the probabilities for class=1 only\n",
    "\tyhat = probs[:, 1]\n",
    "\t# calculate brier score\n",
    "\tbs = brier_score_loss(testy, yhat)\n",
    "\t# calculate brier skill score\n",
    "\tbss = (bs - bs_ref) / (0 - bs_ref)\n",
    "\treturn bss\n",
    "\n",
    "# evaluate an sklearn model n times\n",
    "def evaluate(bs_ref, model, trainX, trainy, testX, testy, n=10):\n",
    "\tscores = [evaluate_once(bs_ref, model, trainX, trainy, testX, testy) for _ in range(n)]\n",
    "\tprint('>%s, bss=%.6f' % (type(model), mean(scores)))\n",
    "\treturn scores\n",
    "\n",
    "# load datasets\n",
    "train = loadtxt('train.csv', delimiter=',')\n",
    "test = loadtxt('test.csv', delimiter=',')\n",
    "# split into inputs/outputs\n",
    "trainX, trainy, testX, testy = train[:,:-1],train[:,-1],test[:,:-1],test[:,-1]\n",
    "# estimate naive probabilistic forecast\n",
    "naive = sum(train[:,-1]) / train.shape[0]\n",
    "# forecast the test dataset\n",
    "yhat = [naive for _ in range(len(test))]\n",
    "# calculate naive bs\n",
    "bs_ref = brier_score_loss(testy, yhat)\n",
    "# evaluate a suite of ensemble tree methods\n",
    "scores, names = list(), list()\n",
    "n_trees=100\n",
    "# bagging\n",
    "model = BaggingClassifier(n_estimators=n_trees)\n",
    "avg_bss = evaluate(bs_ref, model, trainX, trainy, testX, testy)\n",
    "scores.append(avg_bss)\n",
    "names.append('bagging')\n",
    "# extra\n",
    "model = ExtraTreesClassifier(n_estimators=n_trees)\n",
    "avg_bss = evaluate(bs_ref, model, trainX, trainy, testX, testy)\n",
    "scores.append(avg_bss)\n",
    "names.append('extra')\n",
    "# gbm\n",
    "model = GradientBoostingClassifier(n_estimators=n_trees)\n",
    "avg_bss = evaluate(bs_ref, model, trainX, trainy, testX, testy)\n",
    "scores.append(avg_bss)\n",
    "names.append('gbm')\n",
    "# rf\n",
    "model = RandomForestClassifier(n_estimators=n_trees)\n",
    "avg_bss = evaluate(bs_ref, model, trainX, trainy, testX, testy)\n",
    "scores.append(avg_bss)\n",
    "names.append('rf')\n",
    "# plot results\n",
    "pyplot.boxplot(scores, labels=names)\n",
    "pyplot.show()"
   ]
  },
  {
   "cell_type": "code",
   "execution_count": 34,
   "metadata": {},
   "outputs": [
    {
     "name": "stdout",
     "output_type": "stream",
     "text": [
      "><class 'sklearn.ensemble.gradient_boosting.GradientBoostingClassifier'>, bss=0.122377\n",
      "><class 'sklearn.ensemble.gradient_boosting.GradientBoostingClassifier'>, bss=0.145395\n",
      "><class 'sklearn.ensemble.gradient_boosting.GradientBoostingClassifier'>, bss=0.102582\n",
      "><class 'sklearn.ensemble.gradient_boosting.GradientBoostingClassifier'>, bss=0.188487\n"
     ]
    },
    {
     "data": {
      "image/png": "[encoded data removed]",
      "text/plain": [
       "<Figure size 432x288 with 1 Axes>"
      ]
     },
     "metadata": {},
     "output_type": "display_data"
    }
   ],
   "source": [
    "# tune the gbm configuration\n",
    "from numpy import loadtxt\n",
    "from numpy import mean\n",
    "from matplotlib import pyplot\n",
    "from sklearn.base import clone\n",
    "from sklearn.metrics import brier_score_loss\n",
    "from sklearn.ensemble import BaggingClassifier\n",
    "from sklearn.ensemble import ExtraTreesClassifier\n",
    "from sklearn.ensemble import GradientBoostingClassifier\n",
    "from sklearn.ensemble import RandomForestClassifier\n",
    "\n",
    "# evaluate a sklearn model\n",
    "def evaluate_once(bs_ref, template, trainX, trainy, testX, testy):\n",
    "\t# fit model\n",
    "\tmodel = clone(template)\n",
    "\tmodel.fit(trainX, trainy)\n",
    "\t# predict probabilities for 0 and 1\n",
    "\tprobs = model.predict_proba(testX)\n",
    "\t# keep the probabilities for class=1 only\n",
    "\tyhat = probs[:, 1]\n",
    "\t# calculate brier score\n",
    "\tbs = brier_score_loss(testy, yhat)\n",
    "\t# calculate brier skill score\n",
    "\tbss = (bs - bs_ref) / (0 - bs_ref)\n",
    "\treturn bss\n",
    "\n",
    "# evaluate an sklearn model n times\n",
    "def evaluate(bs_ref, model, trainX, trainy, testX, testy, n=10):\n",
    "\tscores = [evaluate_once(bs_ref, model, trainX, trainy, testX, testy) for _ in range(n)]\n",
    "\tprint('>%s, bss=%.6f' % (type(model), mean(scores)))\n",
    "\treturn scores\n",
    "\n",
    "# load datasets\n",
    "train = loadtxt('train.csv', delimiter=',')\n",
    "test = loadtxt('test.csv', delimiter=',')\n",
    "# split into inputs/outputs\n",
    "trainX, trainy, testX, testy = train[:,:-1],train[:,-1],test[:,:-1],test[:,-1]\n",
    "# estimate naive probabilistic forecast\n",
    "naive = sum(train[:,-1]) / train.shape[0]\n",
    "# forecast the test dataset\n",
    "yhat = [naive for _ in range(len(test))]\n",
    "# calculate naive bs\n",
    "bs_ref = brier_score_loss(testy, yhat)\n",
    "# evaluate a suite of ensemble tree methods\n",
    "scores, names = list(), list()\n",
    "# base\n",
    "model = GradientBoostingClassifier(learning_rate=0.1, n_estimators=100, subsample=1.0, max_depth=3)\n",
    "avg_bss = evaluate(bs_ref, model, trainX, trainy, testX, testy)\n",
    "scores.append(avg_bss)\n",
    "names.append('base')\n",
    "# learning rate\n",
    "model = GradientBoostingClassifier(learning_rate=0.01, n_estimators=500, subsample=1.0, max_depth=3)\n",
    "avg_bss = evaluate(bs_ref, model, trainX, trainy, testX, testy)\n",
    "scores.append(avg_bss)\n",
    "names.append('lr')\n",
    "# depth\n",
    "model = GradientBoostingClassifier(learning_rate=0.1, n_estimators=100, subsample=0.7, max_depth=7)\n",
    "avg_bss = evaluate(bs_ref, model, trainX, trainy, testX, testy)\n",
    "scores.append(avg_bss)\n",
    "names.append('depth')\n",
    "# all\n",
    "model = GradientBoostingClassifier(learning_rate=0.01, n_estimators=500, subsample=0.7, max_depth=7)\n",
    "avg_bss = evaluate(bs_ref, model, trainX, trainy, testX, testy)\n",
    "scores.append(avg_bss)\n",
    "names.append('all')\n",
    "# plot results\n",
    "pyplot.boxplot(scores, labels=names)\n",
    "pyplot.show()"
   ]
  }
 ],
 "metadata": {
  "kernelspec": {
   "display_name": "Python 3",
   "language": "python",
   "name": "python3"
  },
  "language_info": {
   "codemirror_mode": {
    "name": "ipython",
    "version": 3
   },
   "file_extension": ".py",
   "mimetype": "text/x-python",
   "name": "python",
   "nbconvert_exporter": "python",
   "pygments_lexer": "ipython3",
   "version": "3.6.5"
  }
 },
 "nbformat": 4,
 "nbformat_minor": 2
}
